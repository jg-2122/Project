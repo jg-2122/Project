{
 "cells": [
  {
   "cell_type": "markdown",
   "id": "47749206-ad32-4c5d-9ead-95cf29b7ccee",
   "metadata": {},
   "source": [
    "from selenium import webdriver\n",
    "from selenium.webdriver.common.by import By\n",
    "from selenium.webdriver.common.keys import Keys\n",
    "from selenium.webdriver.support.ui import WebDriverWait\n",
    "from selenium.webdriver.support.expected_conditions import presence_of_element_located\n",
    "from selenium.common.exceptions import NoSuchElementException\n",
    "from time import sleep\n",
    "import string\n",
    "import openpyxl\n",
    "import os\n"
   ]
  },
  {
   "cell_type": "markdown",
   "id": "e3e45c7e-fb6d-406f-a4c8-ee01fbfbdd3f",
   "metadata": {},
   "source": [
    "#browser = webdriver.Chrome(\"/usr/local/bin/chromedriver\")\n",
    "from selenium.webdriver.chrome.service import Service\n",
    "\n",
    "#chromedriver from path/loading selenium webdriver\n",
    "s = Service(\"/usr/local/bin/chromedriver\")\n",
    "driver = webdriver.Chrome(service=s)\n"
   ]
  },
  {
   "cell_type": "markdown",
   "id": "aedee343-68e7-4d6c-9544-17274edf1a0b",
   "metadata": {},
   "source": [
    "#opening google maps\n",
    "driver.get('https://www.google.com/maps')\n",
    "\n",
    "sleep(3)\n",
    "\n",
    "#driver.close()"
   ]
  },
  {
   "cell_type": "markdown",
   "id": "13d8bc56-bba4-4695-802a-d6ebead9b20a",
   "metadata": {},
   "source": [
    "#Finding the search box \n",
    "driver.switch_to.default_content()\n",
    "searchbox=driver.find_element(By.ID,'searchboxinput')\n",
    "#https://www.pewresearch.org/social-trends/chart/top-10-u-s-metropolitan-areas-by-chinese-population-2019/\n",
    "#cities = ['san francisco', 'chicago', 'los angeles', 'boston', 'dallas', 'san jose', 'seattle', 'washington dc', 'new york', 'honolulu', 'houston']\n",
    "#for c in cities:\n",
    "    #query = c + 'boba'\n",
    "city= \"honolulu, hawaii\"\n",
    "query= city + ' boba'\n",
    "searchbox.send_keys(query)\n",
    "searchbox.send_keys(Keys.ENTER)\n",
    "sleep(2)"
   ]
  },
  {
   "cell_type": "markdown",
   "id": "ed8fa913-8fbc-4298-af91-18162238e541",
   "metadata": {},
   "source": [
    "cancelbut=driver.find_element(By.CLASS_NAME, 'gsst_a')\n",
    "cancelbut.click()\n",
    "searchbox.send_keys(query)\n",
    "searchbox.send_keys(Keys.ENTER)\n",
    "sleep(3)"
   ]
  },
  {
   "cell_type": "markdown",
   "id": "82a7abf0-d3aa-45b6-9e38-7e1755a1e657",
   "metadata": {},
   "source": [
    "#Prepare the excel file using the Openpyxl  \n",
    "wb= openpyxl.load_workbook(\"boba.xlsx\")\n",
    "sheetname=wb.sheetnames[0]\n",
    "sheet=wb[sheetname]\n",
    "sheet.title =\"boba\""
   ]
  },
  {
   "cell_type": "markdown",
   "id": "91b3788a-ba65-46ff-acb4-f622acde3e0c",
   "metadata": {},
   "source": [
    "entries=driver.find_elements(By.CLASS_NAME, 'RnEfrd-jRmmHf-HSrbLb')\n",
    "#shop name entries=driver.find_elements(By.CLASS_NAME, 'qBF1Pd')\n",
    "#rating(review) entries=driver.find_elements(By.CLASS_NAME, 'ZkP5Je')\n",
    "#entries=driver.find_elements(By.XPATH, '//////////////////span[1]')\n",
    "\n",
    "#print(entries[0].text)\n",
    "\n",
    "for entry in entries:\n",
    "    #name = entry.get_attribute(\"aria-label\")\n",
    "    print(entry.text)\n",
    "    \n",
    "    try:\n",
    "        sheet.append([entry.text, city])\n",
    "    except IndexError:\n",
    "        pass\n",
    "    \n",
    "wb.save(\"boba.xlsx\")"
   ]
  },
  {
   "cell_type": "markdown",
   "id": "8ef79ea3-ae0c-4348-819e-8596cec1157a",
   "metadata": {},
   "source": [
    "#scroll down to bottom\n",
    "driver.find_element(By.CLASS_NAME, 'Yr7JMd-pane-visible')\n",
    "driver.execute_script(\"window.scrollTo(0, document.body.scrollHeight);\")"
   ]
  },
  {
   "cell_type": "code",
   "execution_count": null,
   "id": "403b5032-5eb7-47fb-87cb-a8a0044e4c2e",
   "metadata": {},
   "outputs": [],
   "source": []
  },
  {
   "cell_type": "code",
   "execution_count": null,
   "id": "f76d9521-fc86-46ce-9961-6757c7684bce",
   "metadata": {},
   "outputs": [],
   "source": []
  }
 ],
 "metadata": {
  "kernelspec": {
   "display_name": "Python 3 (ipykernel)",
   "language": "python",
   "name": "python3"
  },
  "language_info": {
   "codemirror_mode": {
    "name": "ipython",
    "version": 3
   },
   "file_extension": ".py",
   "mimetype": "text/x-python",
   "name": "python",
   "nbconvert_exporter": "python",
   "pygments_lexer": "ipython3",
   "version": "3.9.7"
  }
 },
 "nbformat": 4,
 "nbformat_minor": 5
}
