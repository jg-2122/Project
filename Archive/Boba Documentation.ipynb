{
 "cells": [
  {
   "cell_type": "raw",
   "id": "02075587-a64e-46e6-bb0f-2d2295505081",
   "metadata": {},
   "source": [
    "import pandas as pd\n",
    "import numpy as np\n",
    "import re"
   ]
  },
  {
   "cell_type": "raw",
   "id": "a6b35ed4-7197-4cb1-8a88-25cb3cf6ddc1",
   "metadata": {},
   "source": [
    "address = \"Desktop/boba top10citiesasian.csv\"\n",
    "columns = [\"Data\", \"City\"]\n",
    "df = pd.read_csv(address, names=columns)\n",
    "df.head()"
   ]
  },
  {
   "cell_type": "raw",
   "id": "62626124-4972-4224-b6f7-89c6e810947f",
   "metadata": {},
   "source": [
    "#delimiting - creating new column for shop name\n",
    "df['Shop'] = df['Data'].str.split('\\n', 1).str[0].str.strip()\n",
    "df = df.drop_duplicates(keep = 'first')\n",
    "df = df.reset_index(drop=True)"
   ]
  },
  {
   "cell_type": "raw",
   "id": "708878b1-ecca-4e7e-808d-010b433ab5cc",
   "metadata": {},
   "source": [
    "#Extracting Rating and Review values\n",
    "df['Data'] = df['Data'].astype(str)\n",
    "df['RatRev'] = df['Data'].str.split(')', 1).str[0].str.strip()\n",
    "df['Data'] = df['Data'].str.split(')', 1).str[1].str.strip()"
   ]
  },
  {
   "cell_type": "raw",
   "id": "c6107dd8-a713-432a-8a9d-3aae2e621ada",
   "metadata": {},
   "source": [
    "#Separating Rating and Review values\n",
    "df['RatRev'] = df['RatRev'].astype(str)\n",
    "df['Rating'] = df['RatRev'].str.split('(', 1).str[0].str.strip('\\n')\n",
    "df['Reviews'] = df['RatRev'].str.split('(', 1).str[1].str.strip()\n",
    "df['Rating'] = df['Rating'].str.split('\\n', 1).str[1].str.strip()"
   ]
  },
  {
   "cell_type": "raw",
   "id": "4c0ca5c7-e1f6-4aae-a2ae-8425f67fd225",
   "metadata": {},
   "source": [
    "#regex for location + strip '\\n' characters at end of string\n",
    "df['Data'] = df['Data'].astype(str)\n",
    "df['Location'] = df['Data'].str.extract('(\\s[0-9]+\\s.+\\s)', expand=False).str.strip()\n",
    "df['Location']"
   ]
  },
  {
   "cell_type": "raw",
   "id": "8bf64eb4-9e82-41ca-90be-423b57c0194b",
   "metadata": {},
   "source": [
    "#extract dollar sign for Price column\n",
    "df['dollar'] = df['Data'].str.extract('([$]+)', expand=False).str.strip()"
   ]
  },
  {
   "cell_type": "raw",
   "id": "7a0845be-75f0-4355-b8bc-c6a3c0d4d1a2",
   "metadata": {},
   "source": [
    "#Make City column titlecase\n",
    "df['City'] = df['City'].str.title()\n",
    "\n",
    "#remove 'Hawaii' from 'Honolulu'\n",
    "df['City'] = df['City'].str.split(',', 1).str[0].str.strip('\\n')\n",
    "df"
   ]
  },
  {
   "cell_type": "raw",
   "id": "5cb55058-c903-4377-8c8c-ae8f3d4a2af2",
   "metadata": {},
   "source": [
    "df['dollar'] = df['dollar'].fillna(0)\n",
    "df.loc[df['dollar'] == '$', 'Price'] = 'Inexpensive'\n",
    "df.loc[df['dollar'] == '$$', 'Price'] = 'Moderate'\n",
    "df.loc[df['dollar'] == 0, 'Price'] = 'N/A'"
   ]
  },
  {
   "cell_type": "raw",
   "id": "a5c67bd4-6800-43ce-b27e-8976a9c5431a",
   "metadata": {},
   "source": [
    "#extract type of store using regex\n",
    "df['Type'] = df['Data'].str.extract('(.+[|])', expand=False).str.strip()\n",
    "df['Type'] = df['Type'].str.strip('\\s[|]')\n",
    "df"
   ]
  },
  {
   "cell_type": "raw",
   "id": "55031fef-7759-4543-ac32-49929cb454a9",
   "metadata": {},
   "source": [
    "#df.loc[df['Rating'].str.strip() == '', 'Rating'] = '0.0'\n",
    "df['Rating'] = df['Rating'].fillna('0.0')\n",
    "df['Reviews'] = df['Reviews'].fillna('0')"
   ]
  },
  {
   "cell_type": "raw",
   "id": "8ac8508f-ad7c-4f22-9d3e-707baae258e2",
   "metadata": {},
   "source": [
    "#Clean Rating column in preparation for conversion to float (remove 'Ad' values)\n",
    "df['Rating'] = df['Rating'].str[-3:]"
   ]
  },
  {
   "cell_type": "raw",
   "id": "c1387043-4f91-49ac-9d73-d7babf468eab",
   "metadata": {},
   "source": [
    "df['Rating'] = pd.to_numeric(df['Rating'], errors='coerce')\n",
    "df['Rating'] = df['Rating'].fillna('0.0')\n",
    "df['Reviews'] = pd.to_numeric(df['Reviews'], errors='coerce')\n",
    "df['Reviews'] = df['Reviews'].fillna('0')"
   ]
  },
  {
   "cell_type": "raw",
   "id": "bc7b162b-4abb-4e75-9ddb-e7ad5057f635",
   "metadata": {},
   "source": [
    "#if reviews = 0, clean rating column to 0\n",
    "df.loc[df['Reviews'] == '0.0', 'Rating'] = '0.0'"
   ]
  },
  {
   "cell_type": "raw",
   "id": "051c5c55-697b-448f-ac96-3b42ff94a2fb",
   "metadata": {},
   "source": [
    "#convert column data type\n",
    "df['Rating'] = df['Rating'].astype(float)\n",
    "df['Reviews'] = df['Reviews'].astype(int)\n",
    "df.info()"
   ]
  },
  {
   "cell_type": "raw",
   "id": "b87750f4-a794-4a5a-83e3-3acc14027882",
   "metadata": {},
   "source": [
    "#create final dataframe -> export to csv\n",
    "df1 = df[['Shop', 'Location', 'Rating', 'Reviews', 'City', 'Type', 'Price']]"
   ]
  }
 ],
 "metadata": {
  "kernelspec": {
   "display_name": "Python 3 (ipykernel)",
   "language": "python",
   "name": "python3"
  },
  "language_info": {
   "codemirror_mode": {
    "name": "ipython",
    "version": 3
   },
   "file_extension": ".py",
   "mimetype": "text/x-python",
   "name": "python",
   "nbconvert_exporter": "python",
   "pygments_lexer": "ipython3",
   "version": "3.9.7"
  }
 },
 "nbformat": 4,
 "nbformat_minor": 5
}
