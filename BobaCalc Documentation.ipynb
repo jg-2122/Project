{
 "cells": [
  {
   "cell_type": "raw",
   "id": "1e2f8c45-8dff-4b29-b08d-e2c0b34c9b36",
   "metadata": {},
   "source": [
    "import pandas as pd\n",
    "import numpy as np\n",
    "import re\n",
    "\n",
    "address = \"boba_final_v2.csv\"\n",
    "df = pd.read_csv(address)"
   ]
  },
  {
   "cell_type": "raw",
   "id": "2998b69d-1c49-4351-aac1-8192c00853f8",
   "metadata": {},
   "source": [
    "df['Reviews'].sum()"
   ]
  },
  {
   "cell_type": "raw",
   "id": "244f4736-86d1-42c8-936c-e282b2476291",
   "metadata": {},
   "source": [
    "#bayesian ranking\n",
    "#need average rating (m), 25% percentile, bayes' average\n",
    "\n",
    "#average rating\n",
    "df['WA'] = df['Reviews'] * df['Rating']\n",
    "m = df['WA'].sum()/df['Reviews'].sum()\n",
    "\n",
    "#25% percentile\n",
    "df2 = df.sort_values(by = ['Reviews'], ignore_index=True)\n",
    "percentile = .25*df['Reviews'].count()\n",
    "percentile = percentile.astype(int)\n",
    "C = df2['Reviews'].iloc[percentile:percentile+1].sum()\n",
    "\n",
    "df['ba'] = ((df['Rating']*df['Reviews']) + (C*m))/(df['Reviews']+C)\n",
    "#df['ba']"
   ]
  },
  {
   "cell_type": "raw",
   "id": "bc61f0ac-63bc-4bcf-92d5-fcc4dadf207b",
   "metadata": {},
   "source": [
    "#top 10 by bayesian average\n",
    "df3 = df.sort_values(by = ['ba'], ascending = False, ignore_index = True).head(10)\n",
    "df3 = df3[['Shop', 'Rating', 'Reviews','ba','Location','City','Type','Price']]\n",
    "#df3"
   ]
  },
  {
   "cell_type": "raw",
   "id": "d58504ac-ee91-4ef7-9fe4-0553d733a61e",
   "metadata": {},
   "source": [
    "#top store per city by bayesian average\n",
    "df4 = df.sort_values(by=[\"ba\"], ascending = False, ignore_index = True).groupby(by=[\"City\"]).head(1)\n",
    "df4 = df4[['Shop', 'Rating', 'Reviews','ba','Location','City','Type','Price']]\n",
    "#df4"
   ]
  },
  {
   "cell_type": "raw",
   "id": "2169713b-dfbc-46f2-bbb3-d395fc5c285e",
   "metadata": {},
   "source": [
    "#count by type\n",
    "df5 = df.groupby(by=[\"Type\"]).count()"
   ]
  },
  {
   "cell_type": "raw",
   "id": "e3e5e4fd-f00d-40d7-8599-9a96132e4c9a",
   "metadata": {},
   "source": [
    "#chicago only (rating vs review) - calculated on total m\n",
    "df4_2 = df.loc[df['City'] == 'Chicago']\n",
    "df4_3 = df4_2[['Shop', 'Rating', 'Reviews','ba']]\n",
    "df4_3.to_csv('rat_rev_bayes.csv')"
   ]
  },
  {
   "cell_type": "raw",
   "id": "2a6c619a-ec3c-45e1-bf25-a6abcc3d498e",
   "metadata": {},
   "source": [
    "#seattle only (rating vs review) - calculated on total m\n",
    "df4_2_SEA = df.loc[df['City'] == 'Seattle']\n",
    "df4_3_SEA = df4_2_SEA[['Shop', 'Rating', 'Reviews','ba']]\n",
    "df4_3_SEA.to_csv('rat_rev_bayes_SEA.csv')"
   ]
  },
  {
   "cell_type": "raw",
   "id": "16423f4c-7c20-4da0-a4b3-7d1c6af541b2",
   "metadata": {},
   "source": [
    "#san francisco only (rating vs review) - calculated on total m\n",
    "df4_2_SF = df.loc[df['City'] == 'San Francisco']\n",
    "df4_3_SF = df4_2_SF[['Shop', 'Rating', 'Reviews','ba']]\n",
    "df4_3_SF.to_csv('rat_rev_bayes_SF.csv')"
   ]
  },
  {
   "cell_type": "raw",
   "id": "a75982ce-e27e-44ff-a5f4-23112911026a",
   "metadata": {},
   "source": [
    "#count by price point\n",
    "#df.groupby(by=[\"Type\"]).count()\n"
   ]
  },
  {
   "cell_type": "raw",
   "id": "e530b98e-6c2b-4768-ab6e-de9752f61981",
   "metadata": {},
   "source": [
    "#summary stats\n",
    "#average rating\n",
    "a = df.groupby(by=['City']).sum()\n",
    "b = df.groupby(by=['City']).count()\n",
    "c = a['Rating']/b['Reviews']\n",
    "#median reviews\n",
    "d = df.groupby(by=['City']).median()\n",
    "#c"
   ]
  },
  {
   "cell_type": "raw",
   "id": "63388bbf-5dd8-4efa-a357-73be22028630",
   "metadata": {},
   "source": [
    "#top by ba\n",
    "#df4_2.sort_values(by=[\"ba\"], ascending = False)\n",
    "df2_C['Reviews'].iloc[13:14].sum()"
   ]
  },
  {
   "cell_type": "raw",
   "id": "a4d22090-bc75-417a-b9b3-df4d86dd425d",
   "metadata": {},
   "source": [
    "#average rating by chicago\n",
    "df_C = df4_2\n",
    "#df_C['WA'] = df['Reviews'] * df['Rating']\n",
    "mC = df_C['WA'].sum()/df_C['Reviews'].sum()\n",
    "\n",
    "#25% percentile by chicago\n",
    "df2_C = df4_2.sort_values(by = ['Reviews'], ignore_index=True)\n",
    "percentileC = .25*df4_2['Reviews'].count()\n",
    "percentileC = percentileC.astype(int)\n",
    "CC = df2_C['Reviews'].iloc[percentileC:percentileC+1].sum()\n",
    "\n",
    "df4_2['ba'] = ((df4_2['Rating']*df4_2['Reviews']) + (CC*mC))/(df4_2['Reviews']+CC)"
   ]
  },
  {
   "cell_type": "raw",
   "id": "72d8a1e9-3396-4f46-8e88-8bbef375e84b",
   "metadata": {},
   "source": [
    "#average rating by seattle\n",
    "df_C = df4_2_SEA\n",
    "#df_C['WA'] = df['Reviews'] * df['Rating']\n",
    "mC = df_C['WA'].sum()/df_C['Reviews'].sum()\n",
    "\n",
    "#25% percentile by seattle\n",
    "df2_C = df4_2_SEA.sort_values(by = ['Reviews'], ignore_index=True)\n",
    "percentileC = .25*df4_2_SEA['Reviews'].count()\n",
    "percentileC = percentileC.astype(int)\n",
    "CC = df2_C['Reviews'].iloc[percentileC:percentileC+1].sum()\n",
    "\n",
    "df4_2_SEA['ba'] = ((df4_2_SEA['Rating']*df4_2_SEA['Reviews']) + (CC*mC))/(df4_2_SEA['Reviews']+CC)"
   ]
  },
  {
   "cell_type": "raw",
   "id": "21b4c550-14a9-409b-94d8-da9fbbb9528e",
   "metadata": {},
   "source": [
    "#average rating by san francisco\n",
    "df_C = df4_2_SF\n",
    "#df_C['WA'] = df['Reviews'] * df['Rating']\n",
    "mC = df_C['WA'].sum()/df_C['Reviews'].sum()\n",
    "\n",
    "#25% percentile by san francisco\n",
    "df2_C = df4_2_SF.sort_values(by = ['Reviews'], ignore_index=True)\n",
    "percentileC = .25*df4_2_SF['Reviews'].count()\n",
    "percentileC = percentileC.astype(int)\n",
    "CC = df2_C['Reviews'].iloc[percentileC:percentileC+1].sum()\n",
    "\n",
    "df4_2_SF['ba'] = ((df4_2_SF['Rating']*df4_2_SF['Reviews']) + (CC*mC))/(df4_2_SF['Reviews']+CC)"
   ]
  },
  {
   "cell_type": "raw",
   "id": "dcecc3f4-e9bd-4bcc-b16d-b854ce2a0199",
   "metadata": {},
   "source": [
    "#sort by top\n",
    "df4_2_SEA.sort_values(by=[\"ba\"], ascending = False)"
   ]
  },
  {
   "cell_type": "code",
   "execution_count": null,
   "id": "06c387c3-95d9-4549-9fff-2b8172fc7d16",
   "metadata": {},
   "outputs": [],
   "source": []
  }
 ],
 "metadata": {
  "kernelspec": {
   "display_name": "Python 3 (ipykernel)",
   "language": "python",
   "name": "python3"
  },
  "language_info": {
   "codemirror_mode": {
    "name": "ipython",
    "version": 3
   },
   "file_extension": ".py",
   "mimetype": "text/x-python",
   "name": "python",
   "nbconvert_exporter": "python",
   "pygments_lexer": "ipython3",
   "version": "3.9.7"
  }
 },
 "nbformat": 4,
 "nbformat_minor": 5
}
